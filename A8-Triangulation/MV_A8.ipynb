{
 "cells": [
  {
   "cell_type": "markdown",
   "metadata": {},
   "source": [
    "# Machine Vision<br>Assignment 8 - Triangulation\n",
    "\n",
    "## Personal details\n",
    "\n",
    "* **Name(s):** `Andrei Baraian and Mihai Mahalean`\n",
    "* **Student ID(s):** `2646381 and 2646394`\n",
    "\n",
    "## 1. Introduction\n",
    "\n",
    "In this assignment we will use a pair of stereo images to triangulate points in 3D. Let us first display the test images and 2D point correspondences. We also load the 3D points mainly for testing purposes. The data is from __http://www.robots.ox.ac.uk/~vgg/data/mview__."
   ]
  },
  {
   "cell_type": "code",
   "execution_count": 1,
   "metadata": {},
   "outputs": [
    {
     "ename": "ModuleNotFoundError",
     "evalue": "No module named 'cv2'",
     "output_type": "error",
     "traceback": [
      "\u001b[0;31m---------------------------------------------------------------------------\u001b[0m",
      "\u001b[0;31mModuleNotFoundError\u001b[0m                       Traceback (most recent call last)",
      "\u001b[0;32m<ipython-input-1-ca17f03be78f>\u001b[0m in \u001b[0;36m<module>\u001b[0;34m\u001b[0m\n\u001b[0;32m----> 1\u001b[0;31m \u001b[0;32mimport\u001b[0m \u001b[0mcv2\u001b[0m\u001b[0;34m\u001b[0m\u001b[0;34m\u001b[0m\u001b[0m\n\u001b[0m\u001b[1;32m      2\u001b[0m \u001b[0;32mimport\u001b[0m \u001b[0mnumpy\u001b[0m \u001b[0;32mas\u001b[0m \u001b[0mnp\u001b[0m\u001b[0;34m\u001b[0m\u001b[0;34m\u001b[0m\u001b[0m\n\u001b[1;32m      3\u001b[0m \u001b[0;32mimport\u001b[0m \u001b[0mmatplotlib\u001b[0m\u001b[0;34m.\u001b[0m\u001b[0mpyplot\u001b[0m \u001b[0;32mas\u001b[0m \u001b[0mplt\u001b[0m\u001b[0;34m\u001b[0m\u001b[0;34m\u001b[0m\u001b[0m\n\u001b[1;32m      4\u001b[0m \u001b[0;32mfrom\u001b[0m \u001b[0mmpl_toolkits\u001b[0m\u001b[0;34m.\u001b[0m\u001b[0mmplot3d\u001b[0m \u001b[0;32mimport\u001b[0m \u001b[0mAxes3D\u001b[0m\u001b[0;34m\u001b[0m\u001b[0;34m\u001b[0m\u001b[0m\n\u001b[1;32m      5\u001b[0m \u001b[0mget_ipython\u001b[0m\u001b[0;34m(\u001b[0m\u001b[0;34m)\u001b[0m\u001b[0;34m.\u001b[0m\u001b[0mrun_line_magic\u001b[0m\u001b[0;34m(\u001b[0m\u001b[0;34m'matplotlib'\u001b[0m\u001b[0;34m,\u001b[0m \u001b[0;34m'inline'\u001b[0m\u001b[0;34m)\u001b[0m\u001b[0;34m\u001b[0m\u001b[0;34m\u001b[0m\u001b[0m\n",
      "\u001b[0;31mModuleNotFoundError\u001b[0m: No module named 'cv2'"
     ]
    }
   ],
   "source": [
    "import cv2\n",
    "import numpy as np\n",
    "import matplotlib.pyplot as plt\n",
    "from mpl_toolkits.mplot3d import Axes3D\n",
    "%matplotlib inline\n",
    "\n",
    "# Load image pair and convert to RGB\n",
    "left = cv2.imread('left.jpg')\n",
    "right = cv2.imread('right.jpg')\n",
    "left = cv2.cvtColor(left,cv2.COLOR_BGR2RGB)\n",
    "right = cv2.cvtColor(right,cv2.COLOR_BGR2RGB)\n",
    "\n",
    "# Load 2D points (2xN matrices)\n",
    "pts1 = np.load('pts1.npy')\n",
    "pts2 = np.load('pts2.npy')\n",
    "\n",
    "# Load 3D points (3xN matrix)\n",
    "pts3D = np.load('pts3D.npy')\n",
    "\n",
    "# Display 2D point correspondences\n",
    "plt.figure(figsize=(14,8))\n",
    "plt.subplot(121)\n",
    "plt.imshow(left)\n",
    "plt.plot(pts1[0,:],pts1[1,:], '.r')\n",
    "plt.title('Left image')\n",
    "plt.axis('off')\n",
    "plt.subplot(122)\n",
    "plt.imshow(right)\n",
    "plt.plot(pts2[0,:],pts2[1,:], '.r')\n",
    "plt.title('Right image')\n",
    "plt.axis('off')"
   ]
  },
  {
   "cell_type": "markdown",
   "metadata": {},
   "source": [
    "The camera projection matrices $\\mathbf{C}$ and $\\mathbf{C}'$ are also provided for both views."
   ]
  },
  {
   "cell_type": "code",
   "execution_count": null,
   "metadata": {},
   "outputs": [],
   "source": [
    "# Load 3x4 camera projection matrices\n",
    "C1 = np.load('C1.npy')\n",
    "C2 = np.load('C2.npy')"
   ]
  },
  {
   "cell_type": "markdown",
   "metadata": {},
   "source": [
    "## 2. From 3D points to 2D points\n",
    "\n",
    "With the camera matrix $\\mathbf{C} = \\mathbf{K}[\\mathbf{R} | \\mathbf{t}]$ we can project 3D points to 2D points on the image plane:\n",
    "\n",
    "$$\n",
    "s \\begin{pmatrix}u \\\\ v \\\\ 1 \\end{pmatrix} = \\mathbf{C} \\begin{pmatrix} X \\\\ Y \\\\ Z \\\\ 1 \\end{pmatrix} \\qquad \\qquad (1)\n",
    "$$\n",
    "\n",
    "Note that we are using homogeneous coordinates.\n",
    "\n",
    "**2.1. Project 3D points** $\\quad$ <font color=red>(0.50 points)</font>\n",
    "\n",
    "Complete the function `projectPts()` by following the instructions below. The function should project 3D points `pts3D` to 2D image points `pts2D`. The result should look like the previous figure.\n"
   ]
  },
  {
   "cell_type": "code",
   "execution_count": null,
   "metadata": {},
   "outputs": [],
   "source": [
    "# INPUT   \n",
    "# pts3D : 3D points (X,Y,Z) (3xN matrix)\n",
    "# C     : Camera projection matrix (3x4 matrix)\n",
    "#\n",
    "# OUTPUT  \n",
    "# pts2D : 2D points (x,y) (2xN matrix)\n",
    "#\n",
    "def projectPts(pts3D,C):\n",
    "    \n",
    "    N = pts3D.shape[1] # Number of points\n",
    "    \n",
    "    # ---------- YOUR CODE STARTS HERE -----------\n",
    "    \n",
    "    # This line can be removed\n",
    "    pts2D = np.zeros((2,N), dtype=np.float_)\n",
    "        \n",
    "    # 1. Convert 3D points from Euclidean to \n",
    "    #    homogeneous coordinates (4xN matrix)\n",
    "\n",
    "    pts3DHom = np.vstack((pts3D, np.ones(N).reshape(1,-1)))\n",
    "    \n",
    "    # 2. Project points using Equation 1\n",
    "\n",
    "    pts2D = np.matmul(C, pts3DHom)\n",
    "    \n",
    "    # 3. Covert 2D points from homogeneous to \n",
    "    #    Euclidean coordinates (2xN matrix)\n",
    "\n",
    "    pts2D = pts2D[:2,:]/pts2D[[-1],:]\n",
    "    \n",
    "    # ----------- YOUR CODE ENDS HERE ------------\n",
    "\n",
    "    return pts2D\n",
    "\n",
    "\n",
    "# Project 3D points and visualize the result\n",
    "points1 = projectPts(pts3D,C1)\n",
    "points2 = projectPts(pts3D,C2)\n",
    "\n",
    "plt.figure(figsize=(14,8))\n",
    "plt.subplot(121)\n",
    "plt.imshow(left)\n",
    "plt.plot(points1[0,:],points1[1,:], '.r')\n",
    "plt.title('Left image')\n",
    "plt.axis('off')\n",
    "plt.subplot(122)\n",
    "plt.imshow(right)\n",
    "plt.plot(points2[0,:],points2[1,:], '.r')\n",
    "plt.title('Right image')\n",
    "plt.axis('off')"
   ]
  },
  {
   "cell_type": "markdown",
   "metadata": {},
   "source": [
    "## 3. From 2D points to 3D points\n",
    "\n",
    "The lecture notes describe a linear method to triangulate a point observed in two cameras (slide 196).\n",
    "Given a point $\\mathbf{X} = (X,Y,Z)^{\\top}$ the projection equations are:\n",
    "\n",
    "$$\n",
    "\\begin{pmatrix}\n",
    "s u \\\\ \n",
    "s v \\\\\n",
    "s \\end{pmatrix} = \n",
    "\\begin{pmatrix}\n",
    "c_{11} & c_{12} & c_{13} & c_{14} \\\\ \n",
    "c_{21} & c_{22} & c_{23} & c_{24} \\\\\n",
    "c_{31} & c_{32} & c_{33} & c_{34} \\end{pmatrix}\n",
    "\\begin{pmatrix}\n",
    "X \\\\ \n",
    "Y \\\\\n",
    "Z \\\\\n",
    "1 \\end{pmatrix}\n",
    "$$\n",
    "\n",
    "$$\n",
    "\\begin{pmatrix}\n",
    "t u' \\\\ \n",
    "t v' \\\\\n",
    "t \\end{pmatrix} = \n",
    "\\begin{pmatrix}\n",
    "c_{11}' & c_{12}' & c_{13}' & c_{14}' \\\\ \n",
    "c_{21}' & c_{22}' & c_{23}' & c_{24}' \\\\\n",
    "c_{31}' & c_{32}' & c_{33}' & c_{34}' \\end{pmatrix}\n",
    "\\begin{pmatrix}\n",
    "X \\\\ \n",
    "Y \\\\\n",
    "Z \\\\\n",
    "1 \\end{pmatrix}\n",
    "$$\n",
    "\n",
    "Here we have used the same notation as in the exercises. Eliminating $s$ and $t$ we obtain the system of equations:\n",
    "\n",
    "$$\n",
    "(c_{31} u - c_{11}) X + (c_{32} u - c_{12}) Y + (c_{33} u - c_{13}) Z = c_{14} - c_{34} u \\\\\n",
    "(c_{31} v - c_{21}) X + (c_{32} v - c_{22}) Y + (c_{33} v - c_{23}) Z = c_{24} - c_{34} v \\\\\n",
    "(c_{31}' u' - c_{11}') X + (c_{32}' u' - c_{12}') Y + (c_{33}' u' - c_{13}') Z = c_{14}' - c_{34}' u' \\\\\n",
    "(c_{31}' v' - c_{21}') X + (c_{32}' v' - c_{22}') Y + (c_{33}' v' - c_{23}') Z = c_{24}' - c_{34}' v'\n",
    "$$\n",
    "\n",
    "which can be expressed in a linear system of the form: $\\mathbf{Ax} = \\mathbf{b}$ and solved using the least squares method. *See the Exercise 8 (Q2)*. <br>Notice also that equations are different from the ones presented in the lecture slides."
   ]
  },
  {
   "cell_type": "markdown",
   "metadata": {},
   "source": [
    "**3.1. Triangulate** $\\quad$ <font color=red>(1.50 points)</font>\n",
    "\n",
    "Complete the function `triangulatePts()`. Estimate 3D points given 2D points `pts1` and `pts2` and projection matrices `C1` and `C2`. For each point, form a linear system $\\mathbf{Ax} = \\mathbf{b}$, where $\\mathbf{A}$ is a $4 \\times 3$ matrix and $\\mathbf{b}$ is a $4 \\times 1$ vector. The least-squares solution can be obtained by $\\hat{\\mathbf{x}} = (\\mathbf{A}^{\\top} \\mathbf{A})^{-1} \\mathbf{A}^{\\top} \\mathbf{b}$, where $\\hat{\\mathbf{x}}$ contains the coordinates of the 3D point $(X,Y,Z)$. Once you have completed the function, execute the following code cell. The implementation is correct if the estimated 3D points `points3D` overlap with the given 3D points `pts3D`."
   ]
  },
  {
   "cell_type": "code",
   "execution_count": null,
   "metadata": {},
   "outputs": [],
   "source": [
    "# INPUT   \n",
    "# pts1 : 2D points from the first image (2xN matrix)\n",
    "# pts2 : 2D points from the second image (2xN matrix)\n",
    "# C1   : Camera matrix for the first image (3x4 matrix)\n",
    "# C2   : Camera matrix for the second image (3x4 matrix)\n",
    "#\n",
    "# OUTPUT  \n",
    "# pts3D : Triangulated 3D points (X,Y,Z) (3xN matrix)\n",
    "#\n",
    "import numpy as np\n",
    "def triangulatePts(pts1,pts2,C1,C2):\n",
    "    \n",
    "    N = pts1.shape[1] # Number of points\n",
    "    pts3D = np.zeros((3,N),dtype=np.float_)\n",
    "    \n",
    "    # ---------- YOUR CODE STARTS HERE -----------\n",
    "    \n",
    "    # 1. For each point i, form A and b\n",
    "    for i in range(0,N):\n",
    "        b=[\n",
    "            [C1[1,4]-C1[3,4]*pts1[0]],\n",
    "            [C1[2,4]-C1[3,4]*pts1[1]],\n",
    "            [C2[1,4]-C2[3,4]*pts2[0]],\n",
    "            [C2[2,4]-C2[3,4]*pts2[1]]  \n",
    "        ]\n",
    "        A=[\n",
    "            [C1[3,1]*pts1[0,i]-C1[1,1], C1[3,2]*pts1[0,i]-C1[1,2],C1[3,3]*pts1[0,i]-C1[1,3]]\n",
    "          ,\n",
    "           [C1[3,1]*pts1[1,i]-C1[2,1],C1[3,2]*pts1[1,i]-C1[2,2],C1[3,3]*pts1[1,i]-C1[2,3]        ]\n",
    "           ,\n",
    "           [C2[3,1]*pts2[0,i]-C2[1,1], C2[3,2]*pts2[0,i]-C2[1,2],C2[3,3]*pts2[0,i]-C2[1,3]]\n",
    "           ,\n",
    "          [C2[3,1]*pts2[1,i]-C2[2,1],C2[3,2]*ppts2[1,i]-C2[2,2],C2[3,3]*pts2[1,i]-C2[2,3]        ]\n",
    "          ]\n",
    "        \n",
    " \n",
    "    # 2. Find solution to linear system Ax=b\n",
    "        x=numpy.linalg.inv(np.transpose(A)*A)*np.transpose(A)*b;\n",
    "    \n",
    "    # 3. Save the triangulated point to pts3D[i,:]\n",
    "        pts3D[i,:]=x\n",
    "\n",
    "    # ----------- YOUR CODE ENDS HERE ------------\n",
    "\n",
    "    return pts3D\n",
    "\n",
    "\n",
    "# Triangulate points and compare to given 3D points\n",
    "points3D = triangulatePts(pts1,pts2,C1,C2)\n",
    "\n",
    "fig = plt.figure(figsize=(12,12))\n",
    "ax = fig.add_subplot(111, projection='3d')\n",
    "ax.scatter(-pts3D[1,:],pts3D[2,:],-pts3D[0,:], \n",
    "           color='blue', label='Given 3D points')\n",
    "ax.scatter(-points3D[1,:],points3D[2,:],-points3D[0,:], \n",
    "           color='red', label='Estimated 3D points')\n",
    "ax.set_xlabel('Y')\n",
    "ax.set_ylabel('Z')\n",
    "ax.set_zlabel('X')\n",
    "ax.set_title('Comparison of 3D points')\n",
    "ax.legend()\n"
   ]
  },
  {
   "cell_type": "markdown",
   "metadata": {},
   "source": [
    "# Aftermath\n",
    "Finally, fill your answers to the following questions:"
   ]
  },
  {
   "cell_type": "markdown",
   "metadata": {},
   "source": [
    "**How much time did you need to complete this exercise?**\n",
    "\n",
    "`REPLACE THIS TEXT WITH YOUR ANSWER.`"
   ]
  },
  {
   "cell_type": "markdown",
   "metadata": {},
   "source": [
    "**Did you experience any problems with the exercise? Was there enough help available? Should this notebook be more (or less) detailed?**\n",
    "\n",
    "`REPLACE THIS TEXT WITH YOUR ANSWER.`"
   ]
  },
  {
   "cell_type": "markdown",
   "metadata": {},
   "source": [
    "# References\n",
    "`https://stackoverflow.com/questions/43925375/usefull-way-of-reverting-homogeneous-coordinates-back-to-2d - For converting from homogenous coordinates to Euclidean in a clean way, without using loops.`"
   ]
  },
  {
   "cell_type": "markdown",
   "metadata": {},
   "source": [
    "# Submission\n",
    "\n",
    "1. Click on the menu `Kernel -> Restart & Clear Output` to clear all outputs and variables, etc.\n",
    "2. Compress the resulting Jupyter notebook (`MV_A8.ipynb` file) into **`MV_A8_[student number(s)].zip`** (e.g. `MV_A8_1234567.zip` if solo work or `MV_A8_1234567-7654321.zip` if pair work).\n",
    "3. Send an email to janne.mustaniemi@oulu.fi with the subject line `MV_A8_[student number(s)]`. Remember to attach the .zip file.\n",
    "\n",
    "**Deadline of the assignment 11.3.2020**"
   ]
  }
 ],
 "metadata": {
  "kernelspec": {
   "display_name": "PyCharm (Exercise3)",
   "language": "python",
   "name": "pycharm-77467118"
  },
  "language_info": {
   "codemirror_mode": {
    "name": "ipython",
    "version": 3
   },
   "file_extension": ".py",
   "mimetype": "text/x-python",
   "name": "python",
   "nbconvert_exporter": "python",
   "pygments_lexer": "ipython3",
   "version": "3.7.5"
  }
 },
 "nbformat": 4,
 "nbformat_minor": 4
}
